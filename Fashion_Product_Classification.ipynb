{
  "nbformat": 4,
  "nbformat_minor": 0,
  "metadata": {
    "colab": {
      "name": "Fashion Product Classification.ipynb",
      "provenance": [],
      "collapsed_sections": []
    },
    "kernelspec": {
      "name": "python3",
      "display_name": "Python 3"
    },
    "accelerator": "GPU"
  },
  "cells": [
    {
      "cell_type": "code",
      "metadata": {
        "id": "mXXT1k6bKaBM",
        "colab_type": "code",
        "outputId": "34258a6e-e9ff-4c76-a2e9-d8c2146bc3fb",
        "colab": {
          "base_uri": "https://localhost:8080/",
          "height": 312
        }
      },
      "source": [
        "from tensorflow.keras.datasets import fashion_mnist\n",
        "import matplotlib.pyplot as plt\n",
        "(xtrain,ytrain),(xtest,ytest) = fashion_mnist.load_data()\n",
        "print(xtrain.shape)\n",
        "print(ytrain.shape)\n",
        "print(xtest.shape)\n",
        "print(ytest.shape)"
      ],
      "execution_count": 0,
      "outputs": [
        {
          "output_type": "display_data",
          "data": {
            "text/html": [
              "<p style=\"color: red;\">\n",
              "The default version of TensorFlow in Colab will soon switch to TensorFlow 2.x.<br>\n",
              "We recommend you <a href=\"https://www.tensorflow.org/guide/migrate\" target=\"_blank\">upgrade</a> now \n",
              "or ensure your notebook will continue to use TensorFlow 1.x via the <code>%tensorflow_version 1.x</code> magic:\n",
              "<a href=\"https://colab.research.google.com/notebooks/tensorflow_version.ipynb\" target=\"_blank\">more info</a>.</p>\n"
            ],
            "text/plain": [
              "<IPython.core.display.HTML object>"
            ]
          },
          "metadata": {
            "tags": []
          }
        },
        {
          "output_type": "stream",
          "text": [
            "Downloading data from https://storage.googleapis.com/tensorflow/tf-keras-datasets/train-labels-idx1-ubyte.gz\n",
            "32768/29515 [=================================] - 0s 0us/step\n",
            "Downloading data from https://storage.googleapis.com/tensorflow/tf-keras-datasets/train-images-idx3-ubyte.gz\n",
            "26427392/26421880 [==============================] - 0s 0us/step\n",
            "Downloading data from https://storage.googleapis.com/tensorflow/tf-keras-datasets/t10k-labels-idx1-ubyte.gz\n",
            "8192/5148 [===============================================] - 0s 0us/step\n",
            "Downloading data from https://storage.googleapis.com/tensorflow/tf-keras-datasets/t10k-images-idx3-ubyte.gz\n",
            "4423680/4422102 [==============================] - 0s 0us/step\n",
            "(60000, 28, 28)\n",
            "(60000,)\n",
            "(10000, 28, 28)\n",
            "(10000,)\n"
          ],
          "name": "stdout"
        }
      ]
    },
    {
      "cell_type": "code",
      "metadata": {
        "id": "Hsyrsga1Kij6",
        "colab_type": "code",
        "colab": {}
      },
      "source": [
        "class_names = ['T-shirt/top', 'Trouser', 'Pullover', 'Dress', 'Coat',\n",
        "               'Sandal', 'Shirt', 'Sneaker', 'Bag', 'Ankle boot']"
      ],
      "execution_count": 0,
      "outputs": []
    },
    {
      "cell_type": "code",
      "metadata": {
        "id": "7T0m8ZUzKiKx",
        "colab_type": "code",
        "outputId": "ab7f1107-29db-49cb-b2dc-6c9101881e80",
        "colab": {
          "base_uri": "https://localhost:8080/",
          "height": 265
        }
      },
      "source": [
        "plt.imshow(xtrain[22000],cmap='gray')\n",
        "plt.show()"
      ],
      "execution_count": 0,
      "outputs": [
        {
          "output_type": "display_data",
          "data": {
            "image/png": "[encoded data removed]",
            "text/plain": [
              "<Figure size 432x288 with 1 Axes>"
            ]
          },
          "metadata": {
            "tags": []
          }
        }
      ]
    },
    {
      "cell_type": "code",
      "metadata": {
        "id": "6CrkCtwDLXC_",
        "colab_type": "code",
        "outputId": "90718780-99c9-47e0-fdc2-5e85282049c3",
        "colab": {
          "base_uri": "https://localhost:8080/",
          "height": 35
        }
      },
      "source": [
        "class_names[ytrain[22000]]"
      ],
      "execution_count": 0,
      "outputs": [
        {
          "output_type": "execute_result",
          "data": {
            "text/plain": [
              "'Dress'"
            ]
          },
          "metadata": {
            "tags": []
          },
          "execution_count": 4
        }
      ]
    },
    {
      "cell_type": "code",
      "metadata": {
        "id": "NIosHZXxLW3_",
        "colab_type": "code",
        "outputId": "452a0115-917b-4f07-80dd-4a5b957e5b20",
        "colab": {
          "base_uri": "https://localhost:8080/",
          "height": 52
        }
      },
      "source": [
        "xtrain = xtrain.reshape(60000,28,28,1)\n",
        "xtest = xtest.reshape(10000,28,28,1)\n",
        "print(xtrain.shape)\n",
        "print(xtest.shape)"
      ],
      "execution_count": 0,
      "outputs": [
        {
          "output_type": "stream",
          "text": [
            "(60000, 28, 28, 1)\n",
            "(10000, 28, 28, 1)\n"
          ],
          "name": "stdout"
        }
      ]
    },
    {
      "cell_type": "code",
      "metadata": {
        "id": "7Ult_ye8QxyB",
        "colab_type": "code",
        "outputId": "5f92bb7a-83e8-477a-9df6-31e16aab0ca5",
        "colab": {
          "base_uri": "https://localhost:8080/",
          "height": 52
        }
      },
      "source": [
        "from tensorflow.keras.utils import to_categorical\n",
        "ytrain = to_categorical(ytrain)\n",
        "ytest = to_categorical(ytest)\n",
        "print(ytrain.shape)\n",
        "print(ytest.shape)"
      ],
      "execution_count": 0,
      "outputs": [
        {
          "output_type": "stream",
          "text": [
            "(60000, 10)\n",
            "(10000, 10)\n"
          ],
          "name": "stdout"
        }
      ]
    },
    {
      "cell_type": "markdown",
      "metadata": {
        "id": "G7kvX2hiTXth",
        "colab_type": "text"
      },
      "source": [
        "Convolutional Neural Network"
      ]
    },
    {
      "cell_type": "code",
      "metadata": {
        "id": "y0mLvM_PRuOA",
        "colab_type": "code",
        "colab": {}
      },
      "source": [
        "from tensorflow.keras import models,layers"
      ],
      "execution_count": 0,
      "outputs": []
    },
    {
      "cell_type": "code",
      "metadata": {
        "id": "LFtBpkxJTeP1",
        "colab_type": "code",
        "colab": {}
      },
      "source": [
        "# initialize CNN\n",
        "model = models.Sequential()\n",
        "# add first convolutional layer\n",
        "model.add(layers.Conv2D(filters=10,kernel_size=(3,3),input_shape=(28,28,1),\n",
        "                        activation='relu'))\n",
        "model.add(layers.Conv2D(filters=20,kernel_size=(3,3),activation='relu'))\n",
        "#adding a pooling layer\n",
        "model.add(layers.MaxPooling2D(pool_size=(2,2)))\n",
        "#add a flatten layer to shift to classificatio section\n",
        "model.add(layers.Flatten())\n",
        "# add a hidden layer with 100 neurons\n",
        "model.add(layers.Dense(200,activation='relu'))\n",
        "model.add(layers.Dense(120,activation='relu'))\n",
        "#add output layer\n",
        "model.add(layers.Dense(10,activation='softmax'))"
      ],
      "execution_count": 0,
      "outputs": []
    },
    {
      "cell_type": "code",
      "metadata": {
        "id": "dme7Gy7-V9Fp",
        "colab_type": "code",
        "outputId": "0d236e73-54c0-4ae9-d7b2-079a843e6775",
        "colab": {
          "base_uri": "https://localhost:8080/",
          "height": 424
        }
      },
      "source": [
        "#compile\n",
        "model.compile(loss='categorical_crossentropy',optimizer='adam',\n",
        "              metrics=['accuracy'])\n",
        "#train\n",
        "model.fit(xtrain,ytrain,epochs=10,batch_size=1000,verbose=True,\n",
        "          validation_data=(xtest,ytest))"
      ],
      "execution_count": 0,
      "outputs": [
        {
          "output_type": "stream",
          "text": [
            "Train on 60000 samples, validate on 10000 samples\n",
            "Epoch 1/10\n",
            "60000/60000 [==============================] - 2s 25us/sample - loss: 4.5694 - acc: 0.6570 - val_loss: 0.5796 - val_acc: 0.7943\n",
            "Epoch 2/10\n",
            "60000/60000 [==============================] - 1s 22us/sample - loss: 0.4570 - acc: 0.8403 - val_loss: 0.4306 - val_acc: 0.8483\n",
            "Epoch 3/10\n",
            "60000/60000 [==============================] - 1s 22us/sample - loss: 0.3417 - acc: 0.8804 - val_loss: 0.3752 - val_acc: 0.8668\n",
            "Epoch 4/10\n",
            "60000/60000 [==============================] - 1s 22us/sample - loss: 0.2773 - acc: 0.9014 - val_loss: 0.3506 - val_acc: 0.8762\n",
            "Epoch 5/10\n",
            "60000/60000 [==============================] - 1s 22us/sample - loss: 0.2346 - acc: 0.9152 - val_loss: 0.3359 - val_acc: 0.8806\n",
            "Epoch 6/10\n",
            "60000/60000 [==============================] - 1s 22us/sample - loss: 0.2002 - acc: 0.9273 - val_loss: 0.3273 - val_acc: 0.8877\n",
            "Epoch 7/10\n",
            "60000/60000 [==============================] - 1s 21us/sample - loss: 0.1685 - acc: 0.9401 - val_loss: 0.3288 - val_acc: 0.8889\n",
            "Epoch 8/10\n",
            "60000/60000 [==============================] - 1s 21us/sample - loss: 0.1451 - acc: 0.9491 - val_loss: 0.3411 - val_acc: 0.8869\n",
            "Epoch 9/10\n",
            "60000/60000 [==============================] - 1s 22us/sample - loss: 0.1271 - acc: 0.9560 - val_loss: 0.3428 - val_acc: 0.8912\n",
            "Epoch 10/10\n",
            "60000/60000 [==============================] - 1s 21us/sample - loss: 0.1080 - acc: 0.9631 - val_loss: 0.3590 - val_acc: 0.8847\n"
          ],
          "name": "stdout"
        },
        {
          "output_type": "execute_result",
          "data": {
            "text/plain": [
              "<tensorflow.python.keras.callbacks.History at 0x7fbd08eec7b8>"
            ]
          },
          "metadata": {
            "tags": []
          },
          "execution_count": 11
        }
      ]
    },
    {
      "cell_type": "code",
      "metadata": {
        "id": "3oHs_HfUWRT5",
        "colab_type": "code",
        "colab": {}
      },
      "source": [
        "model.save(\"model.h5\")"
      ],
      "execution_count": 0,
      "outputs": []
    }
  ]
}