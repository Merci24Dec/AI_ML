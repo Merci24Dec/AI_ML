{
 "cells": [
  {
   "cell_type": "code",
   "execution_count": 1,
   "metadata": {},
   "outputs": [],
   "source": [
    "import nltk"
   ]
  },
  {
   "cell_type": "code",
   "execution_count": 3,
   "metadata": {
    "collapsed": true
   },
   "outputs": [
    {
     "name": "stderr",
     "output_type": "stream",
     "text": [
      "[nltk_data] Downloading package punkt to\n",
      "[nltk_data]     C:\\Users\\anshu\\AppData\\Roaming\\nltk_data...\n",
      "[nltk_data]   Package punkt is already up-to-date!\n",
      "[nltk_data] Downloading package wordnet to\n",
      "[nltk_data]     C:\\Users\\anshu\\AppData\\Roaming\\nltk_data...\n",
      "[nltk_data]   Package wordnet is already up-to-date!\n",
      "[nltk_data] Downloading package tagsets to\n",
      "[nltk_data]     C:\\Users\\anshu\\AppData\\Roaming\\nltk_data...\n",
      "[nltk_data]   Package tagsets is already up-to-date!\n"
     ]
    },
    {
     "data": {
      "text/plain": [
       "True"
      ]
     },
     "execution_count": 3,
     "metadata": {},
     "output_type": "execute_result"
    }
   ],
   "source": [
    "nltk.download(\"punkt\")\n",
    "nltk.download(\"wordnet\")\n",
    "nltk.download(\"tagsets\")"
   ]
  },
  {
   "cell_type": "markdown",
   "metadata": {},
   "source": [
    "### NLTK = Natural language toolkit\n",
    "1. Tokenization\n",
    "    - converting a text doc to a list of sentences or a list of words\n",
    "    - for example \"I love coding.\" >> [\"I\",\"love\",\"coding\"]\n",
    "2. Morphological Analysis\n",
    "    - converting a word into its root form\n",
    "    - for example - cars > car ; went > go ; boxes > box\n",
    "3. Part of Speech Tagging\n",
    "4. Spelling Correction"
   ]
  },
  {
   "cell_type": "code",
   "execution_count": 4,
   "metadata": {
    "collapsed": true
   },
   "outputs": [
    {
     "data": {
      "text/plain": [
       "[' I love python',\n",
       " ' it is a good programming langauge',\n",
       " ' Pizza is \\ntasty',\n",
       " ' Pyhton is amazing programming language',\n",
       " '']"
      ]
     },
     "execution_count": 4,
     "metadata": {},
     "output_type": "execute_result"
    }
   ],
   "source": [
    "data = \"\"\" I love python. it is a good programming langauge. Pizza is \n",
    "tasty. Pyhton is amazing programming language.\"\"\"\n",
    "data.split('.')"
   ]
  },
  {
   "cell_type": "code",
   "execution_count": 5,
   "metadata": {
    "collapsed": true
   },
   "outputs": [
    {
     "data": {
      "text/plain": [
       "[' I love python',\n",
       " ' it is a good programming langauge',\n",
       " ' Pizza is \\ntasty',\n",
       " ' Pyhton is amazing programming language',\n",
       " ' Mr',\n",
       " ' John is coming to meet \\nyou',\n",
       " ' Hope you are doing well! Do you have any question? please drop\\nemail at company@cmpmay',\n",
       " 'com',\n",
       " ' Thankk you!']"
      ]
     },
     "execution_count": 5,
     "metadata": {},
     "output_type": "execute_result"
    }
   ],
   "source": [
    "data = \"\"\" I love python. it is a good programming langauge. Pizza is \n",
    "tasty. Pyhton is amazing programming language. Mr. John is coming to meet \n",
    "you. Hope you are doing well! Do you have any question? please drop\n",
    "email at company@cmpmay.com. Thankk you!\"\"\"\n",
    "data.split('.')"
   ]
  },
  {
   "cell_type": "code",
   "execution_count": 6,
   "metadata": {
    "collapsed": true
   },
   "outputs": [
    {
     "data": {
      "text/plain": [
       "[' I love python.',\n",
       " 'it is a good programming langauge.',\n",
       " 'Pizza is \\ntasty.',\n",
       " 'Pyhton is amazing programming language.',\n",
       " 'Mr. John is coming to meet \\nyou.',\n",
       " 'Hope you are doing well!',\n",
       " 'Do you have any question?',\n",
       " 'please drop\\nemail at company@cmpmay.com.',\n",
       " 'Thankk you!']"
      ]
     },
     "execution_count": 6,
     "metadata": {},
     "output_type": "execute_result"
    }
   ],
   "source": [
    "nltk.sent_tokenize(data)"
   ]
  },
  {
   "cell_type": "code",
   "execution_count": 7,
   "metadata": {},
   "outputs": [
    {
     "data": {
      "text/plain": [
       "['I',\n",
       " 'love',\n",
       " 'python',\n",
       " '.',\n",
       " 'it',\n",
       " 'is',\n",
       " 'a',\n",
       " 'good',\n",
       " 'programming',\n",
       " 'langauge',\n",
       " '.',\n",
       " 'Pizza',\n",
       " 'is',\n",
       " 'tasty',\n",
       " '.',\n",
       " 'Pyhton',\n",
       " 'is',\n",
       " 'amazing',\n",
       " 'programming',\n",
       " 'language',\n",
       " '.',\n",
       " 'Mr.',\n",
       " 'John',\n",
       " 'is',\n",
       " 'coming',\n",
       " 'to',\n",
       " 'meet',\n",
       " 'you',\n",
       " '.',\n",
       " 'Hope',\n",
       " 'you',\n",
       " 'are',\n",
       " 'doing',\n",
       " 'well',\n",
       " '!',\n",
       " 'Do',\n",
       " 'you',\n",
       " 'have',\n",
       " 'any',\n",
       " 'question',\n",
       " '?',\n",
       " 'please',\n",
       " 'drop',\n",
       " 'email',\n",
       " 'at',\n",
       " 'company',\n",
       " '@',\n",
       " 'cmpmay.com',\n",
       " '.',\n",
       " 'Thankk',\n",
       " 'you',\n",
       " '!']"
      ]
     },
     "execution_count": 7,
     "metadata": {},
     "output_type": "execute_result"
    }
   ],
   "source": [
    "nltk.word_tokenize(data)"
   ]
  },
  {
   "cell_type": "markdown",
   "metadata": {},
   "source": [
    "# Morphological Analysis"
   ]
  },
  {
   "cell_type": "markdown",
   "metadata": {},
   "source": [
    "- converting a word into its root form\n",
    "- stemming        - faster, less accurate, works on spelling level\n",
    "- lemmatization   - slower, more accurate, works on meaning level"
   ]
  },
  {
   "cell_type": "code",
   "execution_count": 8,
   "metadata": {
    "collapsed": true
   },
   "outputs": [
    {
     "data": {
      "text/plain": [
       "'car'"
      ]
     },
     "execution_count": 8,
     "metadata": {},
     "output_type": "execute_result"
    }
   ],
   "source": [
    "from nltk.stem import PorterStemmer\n",
    "ps = PorterStemmer()\n",
    "print(ps.stem('cars'))\n",
    "print(ps.stem('boxes'))\n",
    "print(ps.stem('wives'))\n",
    "print(ps.stem('men'))"
   ]
  },
  {
   "cell_type": "code",
   "execution_count": 16,
   "metadata": {},
   "outputs": [
    {
     "data": {
      "text/plain": [
       "'wife'"
      ]
     },
     "execution_count": 16,
     "metadata": {},
     "output_type": "execute_result"
    }
   ],
   "source": [
    "from nltk.stem import WordNetLemmatizer\n",
    "wd = WordNetLemmatizer()\n",
    "print(wd.lemmatize(\"wives\"))\n",
    "print(wd.lemmatize(\"children\"))\n",
    "print(wd.lemmatize('went','v')) # v = verb\n",
    "print(wd.lemmatize(\"happier\",'a')) #a = adjective"
   ]
  },
  {
   "cell_type": "markdown",
   "metadata": {},
   "source": [
    "### POS TAGGING"
   ]
  },
  {
   "cell_type": "code",
   "execution_count": 20,
   "metadata": {},
   "outputs": [
    {
     "data": {
      "text/plain": [
       "[('i', 'NN'),\n",
       " ('love', 'VBP'),\n",
       " ('coding', 'NN'),\n",
       " ('and', 'CC'),\n",
       " ('python', 'NN'),\n",
       " ('programming', 'NN'),\n",
       " (',', ','),\n",
       " ('i', 'JJ'),\n",
       " ('live', 'VBP'),\n",
       " ('in', 'IN'),\n",
       " ('India', 'NNP'),\n",
       " ('.', '.')]"
      ]
     },
     "execution_count": 20,
     "metadata": {},
     "output_type": "execute_result"
    }
   ],
   "source": [
    "data = \"i love coding and python programming, i live in India.\"\n",
    "nltk.pos_tag(nltk.word_tokenize(data))"
   ]
  },
  {
   "cell_type": "code",
   "execution_count": 21,
   "metadata": {},
   "outputs": [
    {
     "name": "stdout",
     "output_type": "stream",
     "text": [
      "CC: conjunction, coordinating\n",
      "    & 'n and both but either et for less minus neither nor or plus so\n",
      "    therefore times v. versus vs. whether yet\n"
     ]
    }
   ],
   "source": [
    "nltk.help.upenn_tagset('CC')"
   ]
  },
  {
   "cell_type": "markdown",
   "metadata": {},
   "source": [
    "# spelling correction"
   ]
  },
  {
   "cell_type": "code",
   "execution_count": 22,
   "metadata": {},
   "outputs": [
    {
     "data": {
      "text/plain": [
       "0.16666666666666666"
      ]
     },
     "execution_count": 22,
     "metadata": {},
     "output_type": "execute_result"
    }
   ],
   "source": [
    "nltk.jaccard_distance(set('orange'),set('orenge'))"
   ]
  },
  {
   "cell_type": "code",
   "execution_count": 23,
   "metadata": {},
   "outputs": [
    {
     "data": {
      "text/plain": [
       "0.42857142857142855"
      ]
     },
     "execution_count": 23,
     "metadata": {},
     "output_type": "execute_result"
    }
   ],
   "source": [
    "nltk.jaccard_distance(set('orange'),set('mango'))"
   ]
  },
  {
   "cell_type": "code",
   "execution_count": 24,
   "metadata": {},
   "outputs": [],
   "source": [
    "dictionary = ['mango','orange','apple','grapes']\n",
    "def recommend(w):\n",
    "    ans = \"\"\n",
    "    score = 1\n",
    "    for word in dictionary:\n",
    "        dist = nltk.jaccard_distance(set(w),set(word))\n",
    "        if dist<score:\n",
    "            ans = word\n",
    "            score = dist\n",
    "    return ans"
   ]
  },
  {
   "cell_type": "code",
   "execution_count": 29,
   "metadata": {},
   "outputs": [
    {
     "data": {
      "text/plain": [
       "'grapes'"
      ]
     },
     "execution_count": 29,
     "metadata": {},
     "output_type": "execute_result"
    }
   ],
   "source": [
    "recommend('gropes')"
   ]
  },
  {
   "cell_type": "code",
   "execution_count": null,
   "metadata": {},
   "outputs": [],
   "source": []
  }
 ],
 "metadata": {
  "kernelspec": {
   "display_name": "Python 3",
   "language": "python",
   "name": "python3"
  },
  "language_info": {
   "codemirror_mode": {
    "name": "ipython",
    "version": 3
   },
   "file_extension": ".py",
   "mimetype": "text/x-python",
   "name": "python",
   "nbconvert_exporter": "python",
   "pygments_lexer": "ipython3",
   "version": "3.7.4"
  }
 },
 "nbformat": 4,
 "nbformat_minor": 2
}
