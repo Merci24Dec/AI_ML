{
  "nbformat": 4,
  "nbformat_minor": 0,
  "metadata": {
    "colab": {
      "name": "MNIST Digit Classification using ANN.ipynb",
      "provenance": []
    },
    "kernelspec": {
      "name": "python3",
      "display_name": "Python 3"
    },
    "accelerator": "GPU"
  },
  "cells": [
    {
      "cell_type": "code",
      "metadata": {
        "id": "B2PEgedWRq3E",
        "colab_type": "code",
        "outputId": "1af35217-3bd9-4707-9c64-8613b0d446fd",
        "colab": {
          "base_uri": "https://localhost:8080/",
          "height": 87
        }
      },
      "source": [
        "import matplotlib.pyplot as plt\n",
        "from tensorflow.keras.datasets import mnist\n",
        "(xtrain,ytrain),(xtest,ytest)=mnist.load_data()\n",
        "print(xtrain.shape)\n",
        "print(ytrain.shape)\n",
        "print(xtest.shape)\n",
        "print(ytest.shape)"
      ],
      "execution_count": 0,
      "outputs": [
        {
          "output_type": "stream",
          "text": [
            "(60000, 28, 28)\n",
            "(60000,)\n",
            "(10000, 28, 28)\n",
            "(10000,)\n"
          ],
          "name": "stdout"
        }
      ]
    },
    {
      "cell_type": "code",
      "metadata": {
        "id": "4xaQFO29SQ6X",
        "colab_type": "code",
        "outputId": "765cda62-a384-4025-ab0f-2af02cbb043c",
        "colab": {
          "base_uri": "https://localhost:8080/",
          "height": 265
        }
      },
      "source": [
        "plt.imshow(xtrain[0],cmap='gray')\n",
        "plt.show()"
      ],
      "execution_count": 0,
      "outputs": [
        {
          "output_type": "display_data",
          "data": {
            "image/png": "[encoded data removed]",
            "text/plain": [
              "<Figure size 432x288 with 1 Axes>"
            ]
          },
          "metadata": {
            "tags": []
          }
        }
      ]
    },
    {
      "cell_type": "code",
      "metadata": {
        "id": "FnzzbehlSa9O",
        "colab_type": "code",
        "outputId": "3a118fde-92ed-481b-cad5-3b81a0a4f1a2",
        "colab": {
          "base_uri": "https://localhost:8080/",
          "height": 35
        }
      },
      "source": [
        "ytrain[0]"
      ],
      "execution_count": 0,
      "outputs": [
        {
          "output_type": "execute_result",
          "data": {
            "text/plain": [
              "5"
            ]
          },
          "metadata": {
            "tags": []
          },
          "execution_count": 4
        }
      ]
    },
    {
      "cell_type": "code",
      "metadata": {
        "id": "eBj6xPoDThCV",
        "colab_type": "code",
        "colab": {}
      },
      "source": [
        "# input neurons = 28x28 = 784\n",
        "# output neurons = 10"
      ],
      "execution_count": 0,
      "outputs": []
    },
    {
      "cell_type": "code",
      "metadata": {
        "id": "ShkDMGhoTmMF",
        "colab_type": "code",
        "outputId": "a4ba8790-8a0f-4605-c2f0-f3b32e5acedd",
        "colab": {
          "base_uri": "https://localhost:8080/",
          "height": 52
        }
      },
      "source": [
        "# onehot encoding the label\n",
        "from tensorflow.keras.utils import to_categorical\n",
        "ytrain = to_categorical(ytrain)\n",
        "ytest = to_categorical(ytest)\n",
        "print(ytrain.shape)\n",
        "print(ytest.shape)"
      ],
      "execution_count": 0,
      "outputs": [
        {
          "output_type": "stream",
          "text": [
            "(60000, 10)\n",
            "(10000, 10)\n"
          ],
          "name": "stdout"
        }
      ]
    },
    {
      "cell_type": "code",
      "metadata": {
        "id": "irIt0FzoUTEi",
        "colab_type": "code",
        "colab": {}
      },
      "source": [
        "from tensorflow.keras import models,layers"
      ],
      "execution_count": 0,
      "outputs": []
    },
    {
      "cell_type": "code",
      "metadata": {
        "id": "J2YhsMBnVWgE",
        "colab_type": "code",
        "colab": {}
      },
      "source": [
        "model = models.Sequential()\n",
        "# add input layer - add a flatten layer >> 28x28 >> 1x784\n",
        "model.add(layers.Flatten(input_shape=(28,28)))\n",
        "\n",
        "# add a hidden layer\n",
        "model.add(layers.Dense(100,activation='relu'))\n",
        "\n",
        "# add a hidden layer\n",
        "model.add(layers.Dense(50,activation='relu'))\n",
        "\n",
        "# add output layer\n",
        "model.add(layers.Dense(10,activation='softmax'))"
      ],
      "execution_count": 0,
      "outputs": []
    },
    {
      "cell_type": "code",
      "metadata": {
        "id": "TrIoK0bDXTLG",
        "colab_type": "code",
        "outputId": "a6bff629-b387-40ac-d12b-b8807b4154a2",
        "colab": {
          "base_uri": "https://localhost:8080/",
          "height": 424
        }
      },
      "source": [
        "# compile - ANN\n",
        "model.compile(loss='categorical_crossentropy',optimizer='adam',\n",
        "              metrics=['accuracy'])\n",
        "# Train  - ANN\n",
        "model.fit(xtrain,ytrain,epochs=10,batch_size=1000,verbose=True,\n",
        "          validation_data=(xtest,ytest))"
      ],
      "execution_count": 0,
      "outputs": [
        {
          "output_type": "stream",
          "text": [
            "Train on 60000 samples, validate on 10000 samples\n",
            "Epoch 1/10\n",
            "60000/60000 [==============================] - 1s 21us/sample - loss: 8.9329 - acc: 0.6900 - val_loss: 1.8049 - val_acc: 0.8025\n",
            "Epoch 2/10\n",
            "60000/60000 [==============================] - 1s 16us/sample - loss: 1.4155 - acc: 0.8237 - val_loss: 1.0274 - val_acc: 0.8455\n",
            "Epoch 3/10\n",
            "60000/60000 [==============================] - 1s 16us/sample - loss: 0.8514 - acc: 0.8527 - val_loss: 0.7404 - val_acc: 0.8638\n",
            "Epoch 4/10\n",
            "60000/60000 [==============================] - 1s 16us/sample - loss: 0.6175 - acc: 0.8752 - val_loss: 0.6256 - val_acc: 0.8765\n",
            "Epoch 5/10\n",
            "60000/60000 [==============================] - 1s 15us/sample - loss: 0.4967 - acc: 0.8910 - val_loss: 0.5552 - val_acc: 0.8870\n",
            "Epoch 6/10\n",
            "60000/60000 [==============================] - 1s 15us/sample - loss: 0.4135 - acc: 0.9058 - val_loss: 0.5092 - val_acc: 0.8944\n",
            "Epoch 7/10\n",
            "60000/60000 [==============================] - 1s 15us/sample - loss: 0.3528 - acc: 0.9158 - val_loss: 0.4794 - val_acc: 0.9034\n",
            "Epoch 8/10\n",
            "60000/60000 [==============================] - 1s 15us/sample - loss: 0.3123 - acc: 0.9235 - val_loss: 0.4504 - val_acc: 0.9083\n",
            "Epoch 9/10\n",
            "60000/60000 [==============================] - 1s 16us/sample - loss: 0.2767 - acc: 0.9301 - val_loss: 0.4334 - val_acc: 0.9096\n",
            "Epoch 10/10\n",
            "60000/60000 [==============================] - 1s 16us/sample - loss: 0.2477 - acc: 0.9364 - val_loss: 0.4185 - val_acc: 0.9147\n"
          ],
          "name": "stdout"
        },
        {
          "output_type": "execute_result",
          "data": {
            "text/plain": [
              "<tensorflow.python.keras.callbacks.History at 0x7f35cd297e10>"
            ]
          },
          "metadata": {
            "tags": []
          },
          "execution_count": 13
        }
      ]
    },
    {
      "cell_type": "code",
      "metadata": {
        "id": "tddfez4_aTZb",
        "colab_type": "code",
        "outputId": "85b61899-6268-4eff-aac7-2aaee86a7206",
        "colab": {
          "base_uri": "https://localhost:8080/",
          "height": 299
        }
      },
      "source": [
        "model.summary()"
      ],
      "execution_count": 0,
      "outputs": [
        {
          "output_type": "stream",
          "text": [
            "Model: \"sequential_2\"\n",
            "_________________________________________________________________\n",
            "Layer (type)                 Output Shape              Param #   \n",
            "=================================================================\n",
            "flatten_2 (Flatten)          (None, 784)               0         \n",
            "_________________________________________________________________\n",
            "dense_2 (Dense)              (None, 100)               78500     \n",
            "_________________________________________________________________\n",
            "dense_3 (Dense)              (None, 50)                5050      \n",
            "_________________________________________________________________\n",
            "dense_4 (Dense)              (None, 10)                510       \n",
            "=================================================================\n",
            "Total params: 84,060\n",
            "Trainable params: 84,060\n",
            "Non-trainable params: 0\n",
            "_________________________________________________________________\n"
          ],
          "name": "stdout"
        }
      ]
    },
    {
      "cell_type": "code",
      "metadata": {
        "id": "8Cw7lMj1i0sO",
        "colab_type": "code",
        "colab": {}
      },
      "source": [
        ""
      ],
      "execution_count": 0,
      "outputs": []
    }
  ]
}