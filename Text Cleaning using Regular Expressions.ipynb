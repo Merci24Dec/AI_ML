{
 "cells": [
  {
   "cell_type": "markdown",
   "metadata": {},
   "source": [
    "# Regular Expressions"
   ]
  },
  {
   "cell_type": "code",
   "execution_count": 1,
   "metadata": {},
   "outputs": [],
   "source": [
    "import re"
   ]
  },
  {
   "cell_type": "code",
   "execution_count": 2,
   "metadata": {
    "collapsed": true
   },
   "outputs": [
    {
     "data": {
      "text/plain": [
       "['9898989898']"
      ]
     },
     "execution_count": 2,
     "metadata": {},
     "output_type": "execute_result"
    }
   ],
   "source": [
    "data = \"My mobile number is 9898989898 what is your number?\"\n",
    "re.findall(\"[0-9]{10}\",data)"
   ]
  },
  {
   "cell_type": "code",
   "execution_count": 3,
   "metadata": {
    "collapsed": true
   },
   "outputs": [
    {
     "name": "stdout",
     "output_type": "stream",
     "text": [
      "\n",
      "my birthday is 30-02-1990 and your birthday is 31/02/1998 and his brithday\n",
      "is 15/05/1887 and his frriend's birthday is 5-5-1889 \n"
     ]
    }
   ],
   "source": [
    "data = \"\"\"\n",
    "my birthday is 30-02-1990 and your birthday is 31/02/1998 and his brithday\n",
    "is 15/05/1887 and his frriend's birthday is 5-5-1889 \"\"\"\n",
    "print(data)"
   ]
  },
  {
   "cell_type": "code",
   "execution_count": 7,
   "metadata": {
    "collapsed": true
   },
   "outputs": [
    {
     "data": {
      "text/plain": [
       "['30-02-1990', '31/02/1998', '15/05/1887', '5-5-1889']"
      ]
     },
     "execution_count": 7,
     "metadata": {},
     "output_type": "execute_result"
    }
   ],
   "source": [
    "pattern = \"[0-9]{1,2}/[0-9]{1,2}/[0-9]{4}|[0-9]{1,2}-[0-9]{1,2}-[0-9]{4}\"\n",
    "re.findall(pattern,data)"
   ]
  },
  {
   "cell_type": "code",
   "execution_count": 8,
   "metadata": {
    "collapsed": true
   },
   "outputs": [
    {
     "name": "stdout",
     "output_type": "stream",
     "text": [
      "\n",
      "my birthday is ***** and your birthday is ***** and his brithday\n",
      "is ***** and his frriend's birthday is ***** \n"
     ]
    }
   ],
   "source": [
    "print(re.sub(pattern,\"*****\",data))"
   ]
  },
  {
   "cell_type": "code",
   "execution_count": 9,
   "metadata": {},
   "outputs": [
    {
     "name": "stdout",
     "output_type": "stream",
     "text": [
      "\n",
      "my birthday is  and your birthday is  and his brithday\n",
      "is  and his frriend's birthday is  \n"
     ]
    }
   ],
   "source": [
    "print(re.sub(pattern,\"\",data))"
   ]
  },
  {
   "cell_type": "code",
   "execution_count": 10,
   "metadata": {},
   "outputs": [
    {
     "name": "stdout",
     "output_type": "stream",
     "text": [
      " hi,\n",
      "the software upgrade has started, for any issue reach me on\n",
      "dontcall@company.com and also keep noreply@boss.com in cc for any other issue\n",
      "drop email at company_solution@mycompany.com and keep\n",
      "busy@gmail.com in cc.\n"
     ]
    }
   ],
   "source": [
    "data = \"\"\" hi,\n",
    "the software upgrade has started, for any issue reach me on\n",
    "dontcall@company.com and also keep noreply@boss.com in cc for any other issue\n",
    "drop email at company_solution@mycompany.com and keep\n",
    "busy@gmail.com in cc.\"\"\"\n",
    "print(data)"
   ]
  },
  {
   "cell_type": "code",
   "execution_count": 11,
   "metadata": {},
   "outputs": [
    {
     "data": {
      "text/plain": [
       "['dontcall@company.com',\n",
       " 'noreply@boss.com',\n",
       " 'company_solution@mycompany.com',\n",
       " 'busy@gmail.com']"
      ]
     },
     "execution_count": 11,
     "metadata": {},
     "output_type": "execute_result"
    }
   ],
   "source": [
    "pattern = \"[a-zA-Z0-9._]+@[a-zA-Z0-9._]+\"\n",
    "re.findall(pattern,data)"
   ]
  },
  {
   "cell_type": "code",
   "execution_count": null,
   "metadata": {},
   "outputs": [],
   "source": []
  }
 ],
 "metadata": {
  "kernelspec": {
   "display_name": "Python 3",
   "language": "python",
   "name": "python3"
  },
  "language_info": {
   "codemirror_mode": {
    "name": "ipython",
    "version": 3
   },
   "file_extension": ".py",
   "mimetype": "text/x-python",
   "name": "python",
   "nbconvert_exporter": "python",
   "pygments_lexer": "ipython3",
   "version": "3.7.4"
  }
 },
 "nbformat": 4,
 "nbformat_minor": 2
}
